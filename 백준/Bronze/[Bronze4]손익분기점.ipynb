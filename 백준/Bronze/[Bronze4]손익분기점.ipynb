{
 "cells": [
  {
   "cell_type": "markdown",
   "id": "5acb109c",
   "metadata": {},
   "source": [ 
    "# 손익분기점"
   ]
  },
  {
   "cell_type": "code",
   "execution_count": 10,
   "id": "4629e94c",
   "metadata": {},
   "outputs": [
    {
     "data": {
      "image/png": "[encoded data removed]",
      "text/plain": [
       "<IPython.core.display.Image object>"
      ]
     },
     "execution_count": 10,
     "metadata": {},
     "output_type": "execute_result"
    }
   ],
   "source": [
    "from IPython.display import Image \n",
    "Image('images/Breakeven.png')"
   ]
  },
  {
   "cell_type": "markdown",
   "id": "9a4109e7",
   "metadata": {},
   "source": [
    "## 문제"
   ]
  },
  {
   "cell_type": "markdown",
   "id": "f012bf95",
   "metadata": {},
   "source": [
    " > 월드전자는 노트북을 제조하고 판매하는 회사이다. 노트북 판매 대수에 상관없이 매년 임대료, 재산세, 보험료, 급여 등 A만원의 고정 비용이 들며, 한 대의 노트북을 생산하는 데에는 재료비와 인건비 등 총 B만원의 가변 비용이 든다고 한다.\n",
    "\n",
    "> 예를 들어 A=1,000, B=70이라고 하자. 이 경우 노트북을 한 대 생산하는 데는 총 1,070만원이 들며, 열 대 생산하는 데는 총 1,700만원이 든다.\n",
    "\n",
    "> 노트북 가격이 C만원으로 책정되었다고 한다. 일반적으로 생산 대수를 늘려 가다 보면 어느 순간 총 수입(판매비용)이 총 비용(=고정비용+가변비용)보다 많아지게 된다. 최초로 총 수입이 총 비용보다 많아져 이익이 발생하는 지점을 손익분기점(BREAK-EVEN POINT)이라고 한다.\n",
    "\n",
    "> A, B, C가 주어졌을 때, 손익분기점을 구하는 프로그램을 작성하시오."
   ]
  },
  {
   "cell_type": "markdown",
   "id": "f8312c3f",
   "metadata": {},
   "source": [
    "## 입력"
   ]
  },
  {
   "cell_type": "markdown",
   "id": "ca404218",
   "metadata": {},
   "source": [
    "> 첫째 줄에 A, B, C가 빈 칸을 사이에 두고 순서대로 주어진다. A, B, C는 21억 이하의 자연수이다."
   ]
  },
  {
   "cell_type": "markdown",
   "id": "49b1eaa2",
   "metadata": {},
   "source": [
    "## 출력"
   ]
  },
  {
   "cell_type": "markdown",
   "id": "ec632b47",
   "metadata": {},
   "source": [
    "> 첫 번째 줄에 손익분기점 즉 최초로 이익이 발생하는 판매량을 출력한다. 손익분기점이 존재하지 않으면 -1을 출력한다."
   ]
  },
  {
   "cell_type": "markdown",
   "id": "d87beab8",
   "metadata": {},
   "source": [
    "## 예제 입력"
   ]
  },
  {
   "cell_type": "markdown",
   "id": "78d01f1d",
   "metadata": {},
   "source": [
    "> 1000 70 170 -> 11"
   ]
  },
  {
   "cell_type": "markdown",
   "id": "84c4799c",
   "metadata": {},
   "source": [
    "## 풀이 코드"
   ]
  },
  {
   "cell_type": "markdown",
   "id": "614dd68c",
   "metadata": {},
   "source": [
    "* 이 문제는 변동없는 A와 일정하게 상승하는 B,C에 관한 문제이다. 수식으로 표현하면 (A+B)-B=<0 True가 되면 된다. 먼저 주의해야 할 것은 B는 C보다 항상 커야하며 아닐 시 -1를 리턴하는 if문을 먼저 넣었다."
   ]
  },
  {
   "cell_type": "code",
   "execution_count": 12,
   "id": "32653dc2",
   "metadata": {},
   "outputs": [
    {
     "name": "stdout",
     "output_type": "stream",
     "text": [
      "1000 70 170\n",
      "11\n"
     ]
    }
   ],
   "source": [
    "A, B, C = map(int, input().split()) #\n",
    "\n",
    "count =0\n",
    "result1=0\n",
    "result2=0\n",
    "while (A+result1)>=result2 :\n",
    "    if(B>=C) :\n",
    "        print(-1)\n",
    "        break\n",
    "    result1+=B\n",
    "    result2+=C\n",
    "        \n",
    "    count+=1\n",
    "print(count)"
   ]
  },
  {
   "cell_type": "markdown",
   "id": "6b821208",
   "metadata": {},
   "source": [
    "* 처음 코드는 위와 같이 작성하였는데, 코드는 맞지만 시간 제한이 걸려서 코드를 수정하였다."
   ]
  },
  {
   "cell_type": "code",
   "execution_count": 11,
   "id": "26cca7cf",
   "metadata": {},
   "outputs": [
    {
     "name": "stdout",
     "output_type": "stream",
     "text": [
      "1000 70 170\n",
      "11\n"
     ]
    }
   ],
   "source": [
    "A, B, C = map(int, input().split())\n",
    "if B >= C:\n",
    "    print(-1)\n",
    "else:\n",
    "    print(int(A//(C-B)+1))"
   ]
  }
 ],
 "metadata": {
  "kernelspec": {
   "display_name": "Python 3 (ipykernel)",
   "language": "python",
   "name": "python3"
  },
  "language_info": {
   "codemirror_mode": {
    "name": "ipython",
    "version": 3
   },
   "file_extension": ".py",
   "mimetype": "text/x-python",
   "name": "python",
   "nbconvert_exporter": "python",
   "pygments_lexer": "ipython3",
   "version": "3.9.12"
  }
 },
 "nbformat": 4,
 "nbformat_minor": 5
}
